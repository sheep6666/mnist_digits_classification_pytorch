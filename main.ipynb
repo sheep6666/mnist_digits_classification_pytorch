{
 "cells": [
  {
   "cell_type": "code",
   "execution_count": 1,
   "id": "fef72a6a-0e59-4911-b0a3-5c1fa4367946",
   "metadata": {},
   "outputs": [],
   "source": [
    "%load_ext autoreload\n",
    "%autoreload 2\n",
    "\n",
    "import os\n",
    "from tqdm.notebook import tqdm, trange\n",
    "\n",
    "import torch\n",
    "from torch import nn\n",
    "\n",
    "from timm.utils import accuracy, AverageMeter\n",
    "\n",
    "from models import build_model\n",
    "from data import build_loader\n",
    "from utils.lr_scheduler import build_scheduler\n",
    "from utils.optimizer import build_optimizer"
   ]
  },
  {
   "cell_type": "code",
   "execution_count": 2,
   "id": "17da2815-bcbc-49c9-905a-6da58043db23",
   "metadata": {},
   "outputs": [],
   "source": [
    "def train(model, data_loader, criterion, optimizer):\n",
    "    model.train()\n",
    "\n",
    "    loss_meter = AverageMeter()\n",
    "    acc_meter  = AverageMeter()\n",
    "\n",
    "    pbar = tqdm(train_loader, leave=False)\n",
    "    for i, (images, labels) in enumerate( pbar ):\n",
    "        optimizer.zero_grad()\n",
    "\n",
    "        images, labels = images.cuda(), labels.cuda()\n",
    "\n",
    "        output = model(images)\n",
    "        \n",
    "        loss = criterion(output, labels)\n",
    "        acc = accuracy(output, labels, topk=(1,))\n",
    "        \n",
    "        loss.backward()\n",
    "        optimizer.step()\n",
    "\n",
    "        loss_meter.update(loss.item(), labels.size(0))\n",
    "        acc_meter.update(acc[0].item(), labels.size(0))\n",
    "\n",
    "        pbar.set_description(f\"[Train] loss: {loss_meter.val:3.3f}, acc: {acc_meter.val:3.3f}\")\n",
    "\n",
    "    pbar.close()\n",
    "    return loss_meter.avg, acc_meter.avg\n",
    "\n",
    "def test(model, data_loader):\n",
    "    model.eval()\n",
    "    \n",
    "    loss_meter = AverageMeter()\n",
    "    acc_meter  = AverageMeter()\n",
    "    \n",
    "    pbar = tqdm(test_loader, leave=False)\n",
    "    with torch.no_grad():\n",
    "        for i, (images, labels) in enumerate( pbar ):\n",
    "            images, labels = images.cuda(), labels.cuda()\n",
    "\n",
    "            output = model(images)\n",
    "            \n",
    "            loss = criterion(output, labels)\n",
    "            acc = accuracy(output, labels, topk=(1,))\n",
    "\n",
    "            loss_meter.update(loss.item(), labels.size(0))\n",
    "            acc_meter.update(acc[0].item(), labels.size(0))\n",
    "            \n",
    "            pbar.set_description(f\"[Test] loss: {loss_meter.val:3.3f}, acc: {acc_meter.val:3.3f}\")\n",
    "    return loss_meter.avg, acc_meter.avg"
   ]
  },
  {
   "cell_type": "code",
   "execution_count": 3,
   "id": "3a0c0e6d-d8d0-449e-8462-ac94bac982e6",
   "metadata": {},
   "outputs": [
    {
     "data": {
      "application/vnd.jupyter.widget-view+json": {
       "model_id": "",
       "version_major": 2,
       "version_minor": 0
      },
      "text/plain": [
       "HBox(children=(HTML(value=''), FloatProgress(value=0.0, max=235.0), HTML(value='')))"
      ]
     },
     "metadata": {},
     "output_type": "display_data"
    },
    {
     "name": "stderr",
     "output_type": "stream",
     "text": [
      "/opt/conda/lib/python3.7/site-packages/torch/nn/functional.py:718: UserWarning: Named tensors and all their associated APIs are an experimental feature and subject to change. Please do not use them for anything important until they are released as stable. (Triggered internally at  /opt/conda/conda-bld/pytorch_1623448224956/work/c10/core/TensorImpl.h:1156.)\n",
      "  return torch.max_pool2d(input, kernel_size, stride, padding, dilation, ceil_mode)\n"
     ]
    },
    {
     "data": {
      "application/vnd.jupyter.widget-view+json": {
       "model_id": "",
       "version_major": 2,
       "version_minor": 0
      },
      "text/plain": [
       "HBox(children=(HTML(value=''), FloatProgress(value=0.0, max=40.0), HTML(value='')))"
      ]
     },
     "metadata": {},
     "output_type": "display_data"
    },
    {
     "name": "stdout",
     "output_type": "stream",
     "text": [
      "Epoch:  1 - [train/test] Loss: 0.71/0.11, Acc: 75.22/96.48\n"
     ]
    },
    {
     "data": {
      "application/vnd.jupyter.widget-view+json": {
       "model_id": "",
       "version_major": 2,
       "version_minor": 0
      },
      "text/plain": [
       "HBox(children=(HTML(value=''), FloatProgress(value=0.0, max=235.0), HTML(value='')))"
      ]
     },
     "metadata": {},
     "output_type": "display_data"
    },
    {
     "data": {
      "application/vnd.jupyter.widget-view+json": {
       "model_id": "",
       "version_major": 2,
       "version_minor": 0
      },
      "text/plain": [
       "HBox(children=(HTML(value=''), FloatProgress(value=0.0, max=40.0), HTML(value='')))"
      ]
     },
     "metadata": {},
     "output_type": "display_data"
    },
    {
     "name": "stdout",
     "output_type": "stream",
     "text": [
      "Epoch:  2 - [train/test] Loss: 0.09/0.06, Acc: 97.33/98.05\n"
     ]
    }
   ],
   "source": [
    "epoch_num = 2\n",
    "\n",
    "model = build_model(None)\n",
    "train_dataset, train_loader, test_dataset, test_loader = build_loader()\n",
    "lr_scheduler = build_scheduler()\n",
    "optimizer = build_optimizer(model)\n",
    "criterion = nn.CrossEntropyLoss().cuda()\n",
    "\n",
    "model.cuda()\n",
    "for epoch in range(1, epoch_num+1):\n",
    "    loss_train, acc_train = train(model, train_loader, criterion, optimizer)\n",
    "    loss_test, acc_test   = test(model, test_loader)\n",
    "    print(f\"Epoch:{epoch:3} - [train/test] Loss: {loss_train:.2f}/{loss_test:.2f}, Acc: {acc_train:.2f}/{acc_test:.2f}\", flush=True)"
   ]
  },
  {
   "cell_type": "code",
   "execution_count": null,
   "id": "ee3d4838-1e1f-4edd-8ecf-0014788e109f",
   "metadata": {},
   "outputs": [],
   "source": []
  }
 ],
 "metadata": {
  "kernelspec": {
   "display_name": "Python 3 (ipykernel)",
   "language": "python",
   "name": "python3"
  },
  "language_info": {
   "codemirror_mode": {
    "name": "ipython",
    "version": 3
   },
   "file_extension": ".py",
   "mimetype": "text/x-python",
   "name": "python",
   "nbconvert_exporter": "python",
   "pygments_lexer": "ipython3",
   "version": "3.7.10"
  }
 },
 "nbformat": 4,
 "nbformat_minor": 5
}
