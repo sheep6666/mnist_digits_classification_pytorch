{
 "cells": [
  {
   "cell_type": "code",
   "execution_count": 1,
   "id": "fef72a6a-0e59-4911-b0a3-5c1fa4367946",
   "metadata": {},
   "outputs": [],
   "source": [
    "%load_ext autoreload\n",
    "%autoreload 2\n",
    "\n",
    "import os\n",
    "from tqdm.notebook import tqdm, trange\n",
    "\n",
    "import torch\n",
    "from torch import nn\n",
    "\n",
    "from timm.utils import accuracy, AverageMeter\n",
    "\n",
    "from models import build_model\n",
    "from data import build_loader\n",
    "from utils.lr_scheduler import build_scheduler\n",
    "from utils.optimizer import build_optimizer"
   ]
  },
  {
   "cell_type": "code",
   "execution_count": 2,
   "id": "17da2815-bcbc-49c9-905a-6da58043db23",
   "metadata": {},
   "outputs": [],
   "source": [
    "def train(model, data_loader, criterion, optimizer):\n",
    "    model.train()\n",
    "\n",
    "    loss_meter = AverageMeter()\n",
    "    acc_meter  = AverageMeter()\n",
    "\n",
    "    pbar = tqdm(train_loader, leave=False)\n",
    "    for i, (images, labels) in enumerate( pbar ):\n",
    "        optimizer.zero_grad()\n",
    "\n",
    "        images, labels = images.cuda(), labels.cuda()\n",
    "\n",
    "        output = model(images)\n",
    "        \n",
    "        loss = criterion(output, labels)\n",
    "        acc = accuracy(output, labels, topk=(1,))\n",
    "        \n",
    "        loss.backward()\n",
    "        optimizer.step()\n",
    "\n",
    "        loss_meter.update(loss.item(), labels.size(0))\n",
    "        acc_meter.update(acc[0].item(), labels.size(0))\n",
    "\n",
    "        pbar.set_description(f\"[Train] loss: {loss_meter.val:3.3f}, acc: {acc_meter.val:3.3f}\")\n",
    "\n",
    "    pbar.close()\n",
    "    return loss_meter.avg, acc_meter.avg\n",
    "\n",
    "def test(model, data_loader):\n",
    "    model.eval()\n",
    "    \n",
    "    loss_meter = AverageMeter()\n",
    "    acc_meter  = AverageMeter()\n",
    "    \n",
    "    pbar = tqdm(test_loader, leave=False)\n",
    "    with torch.no_grad():\n",
    "        for i, (images, labels) in enumerate( pbar ):\n",
    "            images, labels = images.cuda(), labels.cuda()\n",
    "\n",
    "            output = model(images)\n",
    "            \n",
    "            loss = criterion(output, labels)\n",
    "            acc = accuracy(output, labels, topk=(1,))\n",
    "\n",
    "            loss_meter.update(loss.item(), labels.size(0))\n",
    "            acc_meter.update(acc[0].item(), labels.size(0))\n",
    "            \n",
    "            pbar.set_description(f\"[Test] loss: {loss_meter.val:3.3f}, acc: {acc_meter.val:3.3f}\")\n",
    "    return loss_meter.avg, acc_meter.avg"
   ]
  },
  {
   "cell_type": "code",
   "execution_count": 15,
   "id": "3a0c0e6d-d8d0-449e-8462-ac94bac982e6",
   "metadata": {},
   "outputs": [
    {
     "data": {
      "application/vnd.jupyter.widget-view+json": {
       "model_id": "",
       "version_major": 2,
       "version_minor": 0
      },
      "text/plain": [
       "HBox(children=(HTML(value=''), FloatProgress(value=0.0, max=40.0), HTML(value='')))"
      ]
     },
     "metadata": {},
     "output_type": "display_data"
    },
    {
     "data": {
      "application/vnd.jupyter.widget-view+json": {
       "model_id": "",
       "version_major": 2,
       "version_minor": 0
      },
      "text/plain": [
       "HBox(children=(HTML(value=''), FloatProgress(value=0.0, max=40.0), HTML(value='')))"
      ]
     },
     "metadata": {},
     "output_type": "display_data"
    },
    {
     "name": "stdout",
     "output_type": "stream",
     "text": [
      "Epoch:  1, lr=1.0e-01, [Train] Loss:2.23, Acc:23.13 | [Test] Loss:1.70, Acc:37.94\n"
     ]
    },
    {
     "data": {
      "application/vnd.jupyter.widget-view+json": {
       "model_id": "",
       "version_major": 2,
       "version_minor": 0
      },
      "text/plain": [
       "HBox(children=(HTML(value=''), FloatProgress(value=0.0, max=40.0), HTML(value='')))"
      ]
     },
     "metadata": {},
     "output_type": "display_data"
    },
    {
     "data": {
      "application/vnd.jupyter.widget-view+json": {
       "model_id": "",
       "version_major": 2,
       "version_minor": 0
      },
      "text/plain": [
       "HBox(children=(HTML(value=''), FloatProgress(value=0.0, max=40.0), HTML(value='')))"
      ]
     },
     "metadata": {},
     "output_type": "display_data"
    },
    {
     "name": "stdout",
     "output_type": "stream",
     "text": [
      "Epoch:  2, lr=3.0e-02, [Train] Loss:0.99, Acc:73.08 | [Test] Loss:0.77, Acc:74.50\n"
     ]
    },
    {
     "data": {
      "application/vnd.jupyter.widget-view+json": {
       "model_id": "",
       "version_major": 2,
       "version_minor": 0
      },
      "text/plain": [
       "HBox(children=(HTML(value=''), FloatProgress(value=0.0, max=40.0), HTML(value='')))"
      ]
     },
     "metadata": {},
     "output_type": "display_data"
    },
    {
     "data": {
      "application/vnd.jupyter.widget-view+json": {
       "model_id": "",
       "version_major": 2,
       "version_minor": 0
      },
      "text/plain": [
       "HBox(children=(HTML(value=''), FloatProgress(value=0.0, max=40.0), HTML(value='')))"
      ]
     },
     "metadata": {},
     "output_type": "display_data"
    },
    {
     "name": "stdout",
     "output_type": "stream",
     "text": [
      "Epoch:  3, lr=9.0e-03, [Train] Loss:0.53, Acc:84.52 | [Test] Loss:0.51, Acc:85.02\n"
     ]
    },
    {
     "data": {
      "application/vnd.jupyter.widget-view+json": {
       "model_id": "",
       "version_major": 2,
       "version_minor": 0
      },
      "text/plain": [
       "HBox(children=(HTML(value=''), FloatProgress(value=0.0, max=40.0), HTML(value='')))"
      ]
     },
     "metadata": {},
     "output_type": "display_data"
    },
    {
     "data": {
      "application/vnd.jupyter.widget-view+json": {
       "model_id": "",
       "version_major": 2,
       "version_minor": 0
      },
      "text/plain": [
       "HBox(children=(HTML(value=''), FloatProgress(value=0.0, max=40.0), HTML(value='')))"
      ]
     },
     "metadata": {},
     "output_type": "display_data"
    },
    {
     "name": "stdout",
     "output_type": "stream",
     "text": [
      "Epoch:  4, lr=2.7e-03, [Train] Loss:0.47, Acc:86.12 | [Test] Loss:0.45, Acc:86.84\n"
     ]
    },
    {
     "data": {
      "application/vnd.jupyter.widget-view+json": {
       "model_id": "",
       "version_major": 2,
       "version_minor": 0
      },
      "text/plain": [
       "HBox(children=(HTML(value=''), FloatProgress(value=0.0, max=40.0), HTML(value='')))"
      ]
     },
     "metadata": {},
     "output_type": "display_data"
    },
    {
     "data": {
      "application/vnd.jupyter.widget-view+json": {
       "model_id": "",
       "version_major": 2,
       "version_minor": 0
      },
      "text/plain": [
       "HBox(children=(HTML(value=''), FloatProgress(value=0.0, max=40.0), HTML(value='')))"
      ]
     },
     "metadata": {},
     "output_type": "display_data"
    },
    {
     "name": "stdout",
     "output_type": "stream",
     "text": [
      "Epoch:  5, lr=8.1e-04, [Train] Loss:0.45, Acc:86.61 | [Test] Loss:0.44, Acc:86.98\n"
     ]
    },
    {
     "data": {
      "application/vnd.jupyter.widget-view+json": {
       "model_id": "",
       "version_major": 2,
       "version_minor": 0
      },
      "text/plain": [
       "HBox(children=(HTML(value=''), FloatProgress(value=0.0, max=40.0), HTML(value='')))"
      ]
     },
     "metadata": {},
     "output_type": "display_data"
    },
    {
     "data": {
      "application/vnd.jupyter.widget-view+json": {
       "model_id": "",
       "version_major": 2,
       "version_minor": 0
      },
      "text/plain": [
       "HBox(children=(HTML(value=''), FloatProgress(value=0.0, max=40.0), HTML(value='')))"
      ]
     },
     "metadata": {},
     "output_type": "display_data"
    },
    {
     "name": "stdout",
     "output_type": "stream",
     "text": [
      "Epoch:  6, lr=2.4e-04, [Train] Loss:0.45, Acc:86.71 | [Test] Loss:0.43, Acc:87.04\n"
     ]
    }
   ],
   "source": [
    "epoch_num = 6\n",
    "\n",
    "model = build_model(None)\n",
    "train_dataset, train_loader, test_dataset, test_loader = build_loader()\n",
    "lr_scheduler = build_scheduler()\n",
    "optimizer = build_optimizer(model)\n",
    "lr_scheduler = torch.optim.lr_scheduler.StepLR(optimizer, step_size=1, gamma=0.3, last_epoch=- 1, verbose=False)\n",
    "criterion = nn.CrossEntropyLoss().cuda()\n",
    "\n",
    "model.cuda()\n",
    "for epoch in range(1, epoch_num+1):\n",
    "    \n",
    "    lr = lr_scheduler.get_last_lr()[0]\n",
    "    \n",
    "    loss_train, acc_train = train(model, train_loader, criterion, optimizer)\n",
    "    loss_test, acc_test   = test(model, test_loader)\n",
    "    \n",
    "    print(f\"Epoch:{epoch:3}, lr={lr:.1e}, [Train] Loss:{loss_train:.2f}, Acc:{acc_train:.2f} | [Test] Loss:{loss_test:.2f}, Acc:{acc_test:.2f}\", flush=True)\n",
    "\n",
    "    lr_scheduler.step()"
   ]
  },
  {
   "cell_type": "code",
   "execution_count": null,
   "id": "c91f0873-8be0-4795-8735-04cc2267230c",
   "metadata": {},
   "outputs": [],
   "source": []
  }
 ],
 "metadata": {
  "kernelspec": {
   "display_name": "Python 3 (ipykernel)",
   "language": "python",
   "name": "python3"
  },
  "language_info": {
   "codemirror_mode": {
    "name": "ipython",
    "version": 3
   },
   "file_extension": ".py",
   "mimetype": "text/x-python",
   "name": "python",
   "nbconvert_exporter": "python",
   "pygments_lexer": "ipython3",
   "version": "3.7.10"
  }
 },
 "nbformat": 4,
 "nbformat_minor": 5
}
